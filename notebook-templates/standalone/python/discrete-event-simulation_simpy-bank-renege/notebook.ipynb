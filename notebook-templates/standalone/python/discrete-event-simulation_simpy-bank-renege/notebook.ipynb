{
 "cells": [
  {
   "cell_type": "markdown",
   "metadata": {},
   "source": [
    "© Copyright 2002–2019, Team SimPy\n",
    "\n",
    "© Copyright 2019, Dataiku\n",
    "\n",
    "# Event Based Monte-Carlo Simulation with Simpy\n",
    "\n",
    "Based on the [Bank renege example](https://simpy.readthedocs.io/en/latest/examples/bank_renege.html) from Simpy documentation and completed with Monte-Carlo simulations of the impact of the number of counters.\n",
    "\n",
    "*Scenario:*\n",
    "  A counter with a random service time and customers who renege. Based on the\n",
    "  program bank08.py from TheBank tutorial of SimPy 2. (KGM)"
   ]
  },
  {
   "cell_type": "code",
   "execution_count": 1,
   "metadata": {},
   "outputs": [
    {
     "name": "stdout",
     "output_type": "stream",
     "text": [
      "Populating the interactive namespace from numpy and matplotlib\n"
     ]
    }
   ],
   "source": [
    "%pylab inline"
   ]
  },
  {
   "cell_type": "code",
   "execution_count": 2,
   "metadata": {},
   "outputs": [],
   "source": [
    "import random\n",
    "import simpy\n",
    "import numpy as np\n",
    "\n",
    "import dataiku\n",
    "from dataiku import insights"
   ]
  },
  {
   "cell_type": "code",
   "execution_count": 3,
   "metadata": {},
   "outputs": [],
   "source": [
    "RANDOM_SEED = 42\n",
    "NEW_CUSTOMERS = 5  # Total number of customers\n",
    "INTERVAL_CUSTOMERS = 10.0  # Generate new customers roughly every x seconds\n",
    "MIN_PATIENCE = 1  # Min. customer patience\n",
    "MAX_PATIENCE = 3  # Max. customer patience"
   ]
  },
  {
   "cell_type": "code",
   "execution_count": 4,
   "metadata": {},
   "outputs": [],
   "source": [
    "def source(env, number, interval, counter, waitingTimes, renegedIndicators, printlevel):\n",
    "    \"\"\"Source generates customers randomly\"\"\"\n",
    "    for i in range(number):\n",
    "        time_in_bank=4.0\n",
    "        c = customer(env, 'Customer%02d' % i, counter, time_in_bank , waitingTimes, renegedIndicators, printlevel)\n",
    "        env.process(c)\n",
    "        t = random.expovariate(1.0 / interval)\n",
    "        yield env.timeout(t)\n",
    "\n",
    "\n",
    "def customer(env, name, counter, time_in_bank, waitingTimes, renegedIndicators, printlevel):\n",
    "    \"\"\"Customer arrives, is served and leaves.\"\"\"\n",
    "    arrive = env.now\n",
    "    if (printlevel>0):\n",
    "        print('%7.4f %s: Here I am' % (arrive, name))\n",
    "\n",
    "    with counter.request() as req:\n",
    "        patience = random.uniform(MIN_PATIENCE, MAX_PATIENCE)\n",
    "        # Wait for the counter or abort at the end of our tether\n",
    "        results = yield req | env.timeout(patience)\n",
    "\n",
    "        wait = env.now - arrive\n",
    "        waitingTimes.append(wait)\n",
    "        \n",
    "        if req in results:\n",
    "            # We got to the counter\n",
    "            if (printlevel>0):\n",
    "                print('%7.4f %s: Waited %6.3f' % (env.now, name, wait))\n",
    "\n",
    "            tib = random.expovariate(1.0 / time_in_bank)\n",
    "            yield env.timeout(tib)\n",
    "            \n",
    "            if (printlevel>0):\n",
    "                print('%7.4f %s: Finished' % (env.now, name))\n",
    "            \n",
    "            renegedIndicators.append(False)\n",
    "            \n",
    "        else:\n",
    "            # We reneged\n",
    "            if (printlevel>0):\n",
    "                print('%7.4f %s: RENEGED after %6.3f' % (env.now, name, wait))\n",
    "                \n",
    "            renegedIndicators.append(True)"
   ]
  },
  {
   "cell_type": "markdown",
   "metadata": {},
   "source": [
    "## Test simulation"
   ]
  },
  {
   "cell_type": "code",
   "execution_count": 5,
   "metadata": {},
   "outputs": [
    {
     "name": "stdout",
     "output_type": "stream",
     "text": [
      "Bank renege\n",
      " 0.0000 Customer00: Here I am\n",
      " 0.0000 Customer00: Waited  0.000\n",
      " 1.2865 Customer00: Finished\n",
      "10.2006 Customer01: Here I am\n",
      "10.2006 Customer01: Waited  0.000\n",
      "12.7265 Customer02: Here I am\n",
      "13.9003 Customer02: RENEGED after  1.174\n",
      "14.7173 Customer01: Finished\n",
      "34.9993 Customer03: Here I am\n",
      "34.9993 Customer03: Waited  0.000\n",
      "35.9862 Customer03: Finished\n",
      "40.4798 Customer04: Here I am\n",
      "40.4798 Customer04: Waited  0.000\n",
      "41.3666 Customer04: Finished\n",
      "[0, 0.0, 1.173877665258832, 0.0, 0.0]\n",
      "[False, True, False, False, False]\n",
      "47.5190 Customer00: Here I am\n",
      "47.5190 Customer00: Waited  0.000\n",
      "48.5151 Customer00: Finished\n",
      "58.0139 Customer01: Here I am\n",
      "58.0139 Customer01: Waited  0.000\n",
      "58.0400 Customer01: Finished\n",
      "66.9120 Customer02: Here I am\n",
      "66.9120 Customer02: Waited  0.000\n",
      "68.5756 Customer02: Finished\n",
      "83.3016 Customer03: Here I am\n",
      "83.3016 Customer03: Waited  0.000\n",
      "84.9431 Customer03: Finished\n",
      "84.9915 Customer04: Here I am\n",
      "84.9915 Customer04: Waited  0.000\n",
      "92.5137 Customer04: Finished\n"
     ]
    }
   ],
   "source": [
    "# Setup and start the simulation\n",
    "print('Bank renege')\n",
    "printlevel=1\n",
    "random.seed(RANDOM_SEED)\n",
    "env = simpy.Environment()\n",
    "\n",
    "# Logging arrays\n",
    "waitingTimes      = []\n",
    "renegedIndicators = []\n",
    "\n",
    "# Start processes and run\n",
    "counter = simpy.Resource(env, capacity=1)\n",
    "env.process(source(env, NEW_CUSTOMERS, INTERVAL_CUSTOMERS, counter, waitingTimes, renegedIndicators, printlevel))\n",
    "env.run()\n",
    "\n",
    "print(waitingTimes)\n",
    "print(renegedIndicators)\n",
    "\n",
    "counter = simpy.Resource(env, capacity=1)\n",
    "env.process(source(env, NEW_CUSTOMERS, INTERVAL_CUSTOMERS, counter, waitingTimes, renegedIndicators, printlevel))\n",
    "env.run()\n"
   ]
  },
  {
   "cell_type": "markdown",
   "metadata": {},
   "source": [
    "## Monte-Carlo simulation\n",
    "\n",
    "The previous scenario is run many times to simulate many opening days with 1 and 2 counters. The histogram of the number of reneged customers is displayed in both cases."
   ]
  },
  {
   "cell_type": "code",
   "execution_count": 6,
   "metadata": {},
   "outputs": [
    {
     "name": "stdout",
     "output_type": "stream",
     "text": [
      "1 counter(s) is not enough. The proportion of simulations out the target is: 0.894\n"
     ]
    },
    {
     "data": {
      "image/png": "[encoded data removed]",
      "text/plain": [
       "<Figure size 864x576 with 1 Axes>"
      ]
     },
     "metadata": {},
     "output_type": "display_data"
    },
    {
     "name": "stdout",
     "output_type": "stream",
     "text": [
      "2 counter(s) is enough. The proportion of simulations out the target is: 0.1\n"
     ]
    },
    {
     "data": {
      "image/png": "[encoded data removed]",
      "text/plain": [
       "<Figure size 864x576 with 1 Axes>"
      ]
     },
     "metadata": {},
     "output_type": "display_data"
    }
   ],
   "source": [
    "nbMCSimulations = 1000\n",
    "\n",
    "NEW_CUSTOMERS_MC = 20\n",
    "printlevel = 0\n",
    "\n",
    "histoMax=1\n",
    "for sc in range(2):\n",
    "    nbCounters=(sc+1)\n",
    "    renegedCount=np.empty([nbMCSimulations])\n",
    "    for ind in range(nbMCSimulations):\n",
    "        waitingTimes      = []\n",
    "        renegedIndicators = []\n",
    "        counter = simpy.Resource(env, capacity= nbCounters )\n",
    "        env.process(source(env, NEW_CUSTOMERS_MC, INTERVAL_CUSTOMERS, counter, waitingTimes, renegedIndicators, printlevel))\n",
    "        env.run()\n",
    "        renegedCount[ind] = sum(renegedIndicators)\n",
    "\n",
    "    #The company policy set that the proportion of customer target should be below 10% 90% of the time\n",
    "    outOfTargetSimulations = sum(renegedCount>= (0.1*NEW_CUSTOMERS_MC) )* 1.0 /nbMCSimulations\n",
    "    if (outOfTargetSimulations>0.1 ):\n",
    "        print(str(nbCounters)+\" counter(s) is not enough. The proportion of simulations out the target is: \"+str(outOfTargetSimulations))\n",
    "    else:\n",
    "        print(str(nbCounters)+\" counter(s) is enough. The proportion of simulations out the target is: \"+str(outOfTargetSimulations))\n",
    "\n",
    "    histoMax = max(histoMax, int(amax(renegedCount)))\n",
    "    f, ax = plt.subplots(figsize=(12, 8))\n",
    "    plt.hist(renegedCount, bins= range(histoMax) )\n",
    "    if (sc==0):\n",
    "        plt.title(\"Number of reneged customers per Monte-Carlo simulation with 1 counter\")\n",
    "        insights.save_figure(\"reneged-customers-1-counter\",f)\n",
    "    else:             \n",
    "        plt.title(\"Number of reneged customers per Monte-Carlo simulation with 2 counters\")\n",
    "        insights.save_figure(\"reneged-customers-2-counters\",f)\n",
    "    plt.show()\n",
    "    \n"
   ]
  }
 ],
 "metadata": {
  "creator": "admin",
  "customFields": {},
  "kernelspec": {
   "display_name": "Python (env plugin_discrete-event-simulation_managed)",
   "language": "python",
   "name": "py-dku-venv-plugin_discrete-event-simulation_managed"
  },
  "language_info": {
   "codemirror_mode": {
    "name": "ipython",
    "version": 3
   },
   "file_extension": ".py",
   "mimetype": "text/x-python",
   "name": "python",
   "nbconvert_exporter": "python",
   "pygments_lexer": "ipython3",
   "version": "3.7.5"
  },
  "tags": []
 },
 "nbformat": 4,
 "nbformat_minor": 1
}
